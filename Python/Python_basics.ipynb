{
 "cells": [
  {
   "cell_type": "markdown",
   "id": "6c56903b",
   "metadata": {},
   "source": [
    "# 🐍 Python Introduction:\n",
    "\n",
    "Python is a **high-level, interpreted programming language** developed by ***Guido van Rossum in 1991***. It is widely used in Data Science because of its simplicity and powerful libraries.\n",
    "\n",
    "---\n",
    "## 🤔 Why Python is Good for Data Science?\n",
    "\n",
    "Python is extremely popular for **Data Science** because of its simplicity, versatility, and rich ecosystem of libraries.\n",
    "\n",
    "### 1. Easy to Learn and Use\n",
    "- Python has a **simple, readable syntax** — almost like English.\n",
    "- Beginners can start coding quickly without worrying about complex rules.\n",
    "- Ideal for experimenting with data and building models.\n",
    "\n",
    "### 2. Extensive Libraries and Frameworks\n",
    "\n",
    "Python has a huge ecosystem of libraries tailored for data science:\n",
    "\n",
    "| Purpose                   | Popular Libraries                                   |\n",
    "|----------------------------|---------------------------------------------------|\n",
    "| Data manipulation          | `pandas`, `numpy`                                  |\n",
    "| Data visualization         | `matplotlib`, `seaborn`, `plotly`                 |\n",
    "| Machine learning / AI      | `scikit-learn`, `tensorflow`, `keras`, `pytorch`  |\n",
    "| Statistics / Probability   | `scipy`, `statsmodels`                             |\n",
    "| Big data processing        | `pyspark`, `dask`                                  |\n",
    "\n",
    "These libraries **save time** and make data work much easier.\n",
    "\n",
    "### 3. Versatility\n",
    "- Python can handle everything from **data cleaning, visualization, and modeling** to **deploying ML models into production**.\n",
    "- It works with **structured data (Excel, CSV, SQL)** and **unstructured data (text, images, videos)**.\n",
    "\n",
    "### 4. Strong Community Support\n",
    "- Python has a **massive global community**.\n",
    "- Tutorials, forums, and documentation are widely available — if you face a problem, someone has likely already solved it.\n",
    "\n",
    "### 5. Integration Capabilities\n",
    "- Python integrates easily with **databases, web apps, cloud platforms**, and other programming languages.\n",
    "- Useful for building end-to-end data pipelines.\n",
    "\n",
    "### 6. Open Source and Free\n",
    "- Python is **free** to use, with no licensing cost.\n",
    "- You can use it for personal projects, research, and commercial applications without paying anything.\n",
    "\n",
    "#### In Short\n",
    "Python’s simplicity, rich libraries, versatility, and strong community make it the **#1 choice for Data Science**.\n",
    "\n",
    "\n",
    "---\n",
    "\n",
    "# ⚡ Starting with PYTHON...\n",
    "\n",
    "## 1️⃣ Python Setup:\n",
    "- Install **Python** from [python.org](https://www.python.org/) or use **Anaconda** for data science.  \n",
    "- Use **Jupyter Notebook** or **Google Colab** for interactive coding.\n",
    "\n",
    "---\n",
    "\n",
    "## 2️⃣ Python Syntax:\n",
    "\n",
    "### 🖨 Print & Comments:\n",
    "`print()` is a **built-in function** in Python that **outputs text, numbers, variables, or any other data** to the standard output device (usually your monitor). <br>\n",
    "While, a `comment` is a line in the code that Python **ignores** while running the program"
   ]
  },
  {
   "cell_type": "code",
   "execution_count": 2,
   "id": "46112828",
   "metadata": {
    "scrolled": true
   },
   "outputs": [
    {
     "name": "stdout",
     "output_type": "stream",
     "text": [
      "Hello, Freinds\n"
     ]
    }
   ],
   "source": [
    "# This is a comment\n",
    "print (\"Hello, Freinds\")  # Prints text"
   ]
  }
 ],
 "metadata": {
  "kernelspec": {
   "display_name": "Python 3",
   "language": "python",
   "name": "python3"
  },
  "language_info": {
   "codemirror_mode": {
    "name": "ipython",
    "version": 3
   },
   "file_extension": ".py",
   "mimetype": "text/x-python",
   "name": "python",
   "nbconvert_exporter": "python",
   "pygments_lexer": "ipython3",
   "version": "3.13.7"
  }
 },
 "nbformat": 4,
 "nbformat_minor": 5
}
