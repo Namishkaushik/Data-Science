{
 "cells": [
  {
   "cell_type": "markdown",
   "id": "25109909",
   "metadata": {},
   "source": [
    "# 📝 Basic Python Essentials – Practice Questions\n",
    "---\n",
    "Welcome to the Practice Questions section of the Basic Python Essentials for Data Science series! 🚀\n",
    "\n",
    "This notebook is designed to help you:\n",
    "- ✅ Strengthen your understanding of basic Python concepts\n",
    "- ✅ Build problem-solving skills through hands-on coding\n",
    "- ✅ Prepare a strong foundation for data science libraries like NumPy, Pandas, and scikit-learn\n",
    "\n",
    "## 🔎 How to Use This Notebook\n",
    "1. **Read the problem statement carefully.**\n",
    "2. **Try solving it on your own first.** Don’t rush to see the solution!\n",
    "3. Use print statements or debugging if you get stuck.\n",
    "4. After attempting, **compare with the provided solutions.** \n",
    "5. Practice regularly — consistency > intensity 💡\n",
    "\n",
    "## 🏗️ Structure of Questions\n",
    "- **Beginner** 🟢: Focus on syntax and simple logic\n",
    "- **Intermediate** 🟡: Functions, recursion, data structures\n",
    "- **Advanced Basics** 🔴: Algorithmic thinking (still beginner-friendly, no hardcore CS stuff)\n",
    "\n",
    "Remember:\n",
    "\n",
    "“Learning Python is not about memorizing syntax — it’s about learning to **think in code.**” 🧠💻\n",
    "\n",
    "---\n",
    "# 🔥 SO, LET'S BEGIN :-\n",
    "---\n",
    "\n",
    "## 🟢 Beginner Level"
   ]
  },
  {
   "cell_type": "markdown",
   "id": "9fb837ab",
   "metadata": {},
   "source": [
    "**Q.1.** Write a Python program to swap two numbers without using a third variable."
   ]
  },
  {
   "cell_type": "code",
   "execution_count": 5,
   "id": "5fcc3c93",
   "metadata": {},
   "outputs": [],
   "source": [
    "# Try it yourself\n"
   ]
  },
  {
   "cell_type": "markdown",
   "id": "4389096b",
   "metadata": {},
   "source": [
    "<details>\n",
    "<summary>Solution</summary>\n",
    "\n",
    "```python\n",
    "a = 10\n",
    "b = 20\n",
    "a,b = b,a\n",
    "print(\"First 'a' was: \", a, \"and 'b' was: \", b)\n",
    "print(\"But now 'a': \",a, \"and 'b': \",b)\n",
    "```\n",
    "\n",
    "</details>"
   ]
  },
  {
   "cell_type": "markdown",
   "id": "90075c2e",
   "metadata": {},
   "source": [
    "**Q.2.** Take a number as input and check if it is even or odd."
   ]
  },
  {
   "cell_type": "code",
   "execution_count": 6,
   "id": "773fb120",
   "metadata": {},
   "outputs": [],
   "source": [
    "# Try it yourself"
   ]
  },
  {
   "cell_type": "markdown",
   "id": "450ea2c9",
   "metadata": {},
   "source": [
    "<details>\n",
    "<summary>Solution</summary>\n",
    "\n",
    "```python\n",
    "a = int(input(\"Enter the number : \"))\n",
    "if a%2==0:\n",
    "    print(\"The number is EVEN\")\n",
    "else:\n",
    "    print(\"The number is ODD\")\n",
    "```\n",
    "    \n",
    "</details>"
   ]
  },
  {
   "cell_type": "markdown",
   "id": "ea69ad72",
   "metadata": {},
   "source": [
    "**Q.3.** Find the largest of three numbers using if statements."
   ]
  },
  {
   "cell_type": "code",
   "execution_count": 7,
   "id": "fac9bde7",
   "metadata": {},
   "outputs": [],
   "source": [
    "# Try it yourself"
   ]
  },
  {
   "cell_type": "markdown",
   "id": "07fd2992",
   "metadata": {},
   "source": [
    "<details>\n",
    "<summary>Solution</summary>\n",
    "\n",
    "```python\n",
    "a = int(input(\"Enter the 1st number : \"))\n",
    "b = int(input(\"Enter the 2nd number : \"))\n",
    "c = int(input(\"Enter the 3rd number : \"))\n",
    "\n",
    "if a==b and b==c:\n",
    "    print(\"All numbers are equal\")\n",
    "elif a>=b and a>=c:\n",
    "    print(a,\" is the largest number.\")\n",
    "elif b>=a and b>=c:\n",
    "    print(b,\" is the largest number.\")\n",
    "else:\n",
    "    print(c,\" is the largest number.\")\n",
    "```\n",
    "\n",
    "</details>"
   ]
  },
  {
   "cell_type": "markdown",
   "id": "3dc6c08d",
   "metadata": {},
   "source": [
    "**Q.4.** Print the multiplication table of a given number."
   ]
  },
  {
   "cell_type": "code",
   "execution_count": 30,
   "id": "9842c16a",
   "metadata": {},
   "outputs": [],
   "source": [
    "# Try it yourself"
   ]
  },
  {
   "cell_type": "markdown",
   "id": "2deddf99",
   "metadata": {},
   "source": [
    "<details>\n",
    "<summary>Solution</summary>\n",
    "\n",
    "```python\n",
    "n = int(input(\"Enter the number : \"))\n",
    "for i in range(1,11):\n",
    "    print(f\"{n}  *  {i}  =  {n*i}\")\n",
    "```    \n",
    "</details>"
   ]
  },
  {
   "cell_type": "markdown",
   "id": "40da16f9",
   "metadata": {},
   "source": [
    "**Q.5.** Reverse a string without using slicing."
   ]
  },
  {
   "cell_type": "code",
   "execution_count": 4,
   "id": "c25065b2",
   "metadata": {},
   "outputs": [],
   "source": [
    "# Try it yourself"
   ]
  },
  {
   "cell_type": "markdown",
   "id": "8569eb3c",
   "metadata": {},
   "source": [
    "<details>\n",
    "<summary>Solution</summary>\n",
    "\n",
    "```python\n",
    "s = input(\"Enter the string : \")\n",
    "r = \" \"\n",
    "for i in s:\n",
    "    r = i + r\n",
    "print(\"Reversed string is : \",r)\n",
    "```\n",
    "</details>"
   ]
  },
  {
   "cell_type": "markdown",
   "id": "a72b34a7",
   "metadata": {},
   "source": [
    "**Q.6.** Count the number of vowels in a given string."
   ]
  },
  {
   "cell_type": "code",
   "execution_count": 17,
   "id": "933d3185",
   "metadata": {},
   "outputs": [],
   "source": [
    "# Try it yourself"
   ]
  },
  {
   "cell_type": "markdown",
   "id": "75c5cced",
   "metadata": {},
   "source": [
    "<details>\n",
    "<summary>Solution</summary>\n",
    "\n",
    "```python\n",
    "s = input(\"Enter the string : \")\n",
    "v = ['a','e','i','o','u','A','E','I','O','U']\n",
    "count = 0\n",
    "for i in s:\n",
    "    if i in v:\n",
    "        count += 1 \n",
    "print(\"The number of vowels are : \",count)\n",
    "```\n",
    "</details>"
   ]
  },
  {
   "cell_type": "markdown",
   "id": "09c59635",
   "metadata": {},
   "source": [
    "**Q.7.** Write a program to calculate the factorial of a number (using a loop)."
   ]
  },
  {
   "cell_type": "code",
   "execution_count": null,
   "id": "405c8992",
   "metadata": {},
   "outputs": [
    {
     "name": "stdout",
     "output_type": "stream",
     "text": [
      "24\n"
     ]
    }
   ],
   "source": [
    "# Try it yourself"
   ]
  },
  {
   "cell_type": "markdown",
   "id": "0d58f2c0",
   "metadata": {},
   "source": [
    "<details>\n",
    "<summary>Solution</summary>\n",
    "\n",
    "```python\n",
    "n = int(input(\"Enter the number : \"))\n",
    "f = 1\n",
    "for i in range(1,n+1):\n",
    "    f *= i \n",
    "print(\"The factorial of \",n,\" is : \",f)\n",
    "```"
   ]
  },
  {
   "cell_type": "markdown",
   "id": "85a1158d",
   "metadata": {},
   "source": [
    "**Q.8.** Create a list of squares from 1 to 10 using list comprehension."
   ]
  },
  {
   "cell_type": "code",
   "execution_count": 6,
   "id": "4f34a8cb",
   "metadata": {},
   "outputs": [],
   "source": [
    "# Try it yourself"
   ]
  },
  {
   "cell_type": "markdown",
   "id": "faaabc32",
   "metadata": {},
   "source": [
    "<details>\n",
    "<summary>Solution</summary>\n",
    "\n",
    "```python\n",
    "l = [i**2 for i in range(1,11) ]\n",
    "print(l)\n",
    "```\n"
   ]
  },
  {
   "cell_type": "markdown",
   "id": "e258f0cc",
   "metadata": {},
   "source": [
    "**Q.9** Given a list, remove duplicates and print the unique elements."
   ]
  },
  {
   "cell_type": "code",
   "execution_count": null,
   "id": "2f4cbf89",
   "metadata": {},
   "outputs": [
    {
     "name": "stdout",
     "output_type": "stream",
     "text": [
      "[1, 2, 3, 4, 5]\n"
     ]
    }
   ],
   "source": [
    "# Try it yourself"
   ]
  },
  {
   "cell_type": "markdown",
   "id": "91b7a8b9",
   "metadata": {},
   "source": [
    "<details>\n",
    "<summary>Solution</summary>\n",
    "\n",
    "```python\n",
    "l = [1, 2, 2, 3, 4, 4, 5]\n",
    "a = list(set(l))\n",
    "print(a)\n",
    "```\n",
    "</details>"
   ]
  },
  {
   "cell_type": "markdown",
   "id": "803d58ee",
   "metadata": {},
   "source": [
    "**Q.10** Write a program to find the sum of all elements in a list."
   ]
  },
  {
   "cell_type": "code",
   "execution_count": null,
   "id": "6eda5051",
   "metadata": {},
   "outputs": [
    {
     "name": "stdout",
     "output_type": "stream",
     "text": [
      "38\n"
     ]
    }
   ],
   "source": [
    "# Try it yourself\n"
   ]
  },
  {
   "cell_type": "markdown",
   "id": "61b2cb59",
   "metadata": {},
   "source": [
    "<details>\n",
    "<summary>Solution</summary>\n",
    "\n",
    "```python\n",
    "l = [1,5,4,8,9,6,3,2]\n",
    "print(sum(l)) \n",
    "```\n",
    "</details>"
   ]
  }
 ],
 "metadata": {
  "kernelspec": {
   "display_name": "Python 3 (ipykernel)",
   "language": "python",
   "name": "python3"
  },
  "language_info": {
   "codemirror_mode": {
    "name": "ipython",
    "version": 3
   },
   "file_extension": ".py",
   "mimetype": "text/x-python",
   "name": "python",
   "nbconvert_exporter": "python",
   "pygments_lexer": "ipython3",
   "version": "3.12.1"
  }
 },
 "nbformat": 4,
 "nbformat_minor": 5
}
