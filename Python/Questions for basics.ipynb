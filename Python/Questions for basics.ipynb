{
 "cells": [
  {
   "cell_type": "markdown",
   "id": "25109909",
   "metadata": {},
   "source": [
    "# 📝 Basic Python Essentials – Practice Questions\n",
    "---\n",
    "Welcome to the Practice Questions section of the Basic Python Essentials for Data Science series! 🚀\n",
    "\n",
    "This notebook is designed to help you:\n",
    "- ✅ Strengthen your understanding of basic Python concepts\n",
    "- ✅ Build problem-solving skills through hands-on coding\n",
    "- ✅ Prepare a strong foundation for data science libraries like NumPy, Pandas, and scikit-learn\n",
    "\n",
    "## 🔎 How to Use This Notebook\n",
    "1. **Read the problem statement carefully.**\n",
    "2. **Try solving it on your own first.** Don’t rush to see the solution!\n",
    "3. Use print statements or debugging if you get stuck.\n",
    "4. After attempting, **compare with the provided solutions.** \n",
    "5. Practice regularly — consistency > intensity 💡\n",
    "\n",
    "## 🏗️ Structure of Questions\n",
    "- **Beginner** 🟢: Focus on syntax and simple logic\n",
    "- **Intermediate** 🟡: Functions, recursion, data structures\n",
    "- **Advanced Basics** 🔴: Algorithmic thinking (still beginner-friendly, no hardcore CS stuff)\n",
    "\n",
    "Remember:\n",
    "\n",
    "“Learning Python is not about memorizing syntax — it’s about learning to **think in code.**” 🧠💻\n",
    "\n",
    "---\n",
    "# 🔥 SO, LET'S BEGIN :-\n",
    "---\n",
    "\n",
    "## 🟢 Beginner Level"
   ]
  },
  {
   "cell_type": "markdown",
   "id": "9fb837ab",
   "metadata": {},
   "source": [
    "**Q.1.** Write a Python program to swap two numbers without using a third variable."
   ]
  },
  {
   "cell_type": "code",
   "execution_count": 9,
   "id": "5fcc3c93",
   "metadata": {},
   "outputs": [],
   "source": [
    "# Do it yourself"
   ]
  },
  {
   "cell_type": "markdown",
   "id": "4389096b",
   "metadata": {},
   "source": [
    "<details>\n",
    "<summary>Click to see solution</summary>\n",
    "\n",
    "```python\n",
    "a = 10\n",
    "b = 20\n",
    "a,b = b,a\n",
    "print(\"First 'a' was: \", a, \"and 'b' was: \", b)\n",
    "print(\"But now 'a': \",a, \"and 'b': \",b)\n",
    "```\n",
    "\n",
    "</details>"
   ]
  }
 ],
 "metadata": {
  "kernelspec": {
   "display_name": "Python 3 (ipykernel)",
   "language": "python",
   "name": "python3"
  },
  "language_info": {
   "codemirror_mode": {
    "name": "ipython",
    "version": 3
   },
   "file_extension": ".py",
   "mimetype": "text/x-python",
   "name": "python",
   "nbconvert_exporter": "python",
   "pygments_lexer": "ipython3",
   "version": "3.12.1"
  }
 },
 "nbformat": 4,
 "nbformat_minor": 5
}
